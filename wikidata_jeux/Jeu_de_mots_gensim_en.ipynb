{
 "cells": [
  {
   "cell_type": "code",
   "execution_count": 1,
   "id": "65a28e12",
   "metadata": {},
   "outputs": [],
   "source": [
    "#importations\n",
    "import requests\n",
    "import random\n",
    "from random import randrange\n",
    "import json\n",
    "#import nltk\n",
    "from langdetect import detect\n",
    "import os\n",
    "import glob\n",
    "import gensim.downloader as api\n",
    "from nltk.corpus import stopwords"
   ]
  },
  {
   "cell_type": "code",
   "execution_count": 2,
   "id": "d5122048",
   "metadata": {},
   "outputs": [],
   "source": [
    "def write_json(chemin,contenu):\n",
    "    with open(chemin,\"w\",encoding=\"utf-8\") as w :\n",
    "        w.write(json.dumps(contenu, indent=2, ensure_ascii=False))\n",
    "def ouvrir_json(chemin) :\n",
    "    with open(chemin,encoding=\"utf-8\") as f :\n",
    "        toto = json.load(f)\n",
    "    return toto"
   ]
  },
  {
   "cell_type": "code",
   "execution_count": 4,
   "id": "0d8bc43e",
   "metadata": {},
   "outputs": [],
   "source": [
    "def requete_base(lang) : \n",
    "    nom = \"requetes_chansons_\"+lang+\".json\"\n",
    "    if os.path.exists(nom) :\n",
    "        return nom\n",
    "    langues = {\"fr\":\"Q150\",\"en\" :\"Q1860\" }\n",
    "    #récupérer aussi l'auteur ?\n",
    "    requete_all = \"\"\"\n",
    "    SELECT DISTINCT ?chanson ?chansonLabel ?performer ?performerLabel WHERE\n",
    "    {\n",
    "      ?chanson wdt:P7937 wd:Q7366;\n",
    "               wdt:P175 ?performer;\n",
    "               rdfs:label ?chansonLabel;\n",
    "               wdt:P407 wd:%s.\n",
    "       ?performer rdfs:label ?performerLabel.\n",
    "      FILTER(lang(?chansonLabel)=\"%s\").\n",
    "      FILTER(lang(?performerLabel)=\"%s\").\n",
    "  }\n",
    "    \"\"\"%(langues[lang],lang,lang)\n",
    "\n",
    "    url = 'https://query.wikidata.org/bigdata/namespace/wdq/sparql'\n",
    "    data = requests.get(url, params={'query': requete_all, 'format': 'json'}).json()\n",
    "    \n",
    "    write_json(nom,data)\n",
    "    return nom"
   ]
  },
  {
   "cell_type": "code",
   "execution_count": 6,
   "id": "4344ca88",
   "metadata": {},
   "outputs": [],
   "source": [
    "def structuration_requete(fichier) :\n",
    "\n",
    "    resultats_json = ouvrir_json(fichier)\n",
    "    liste_niv1 = resultats_json[\"results\"][\"bindings\"]\n",
    "    \n",
    "    resultats = {}\n",
    "    chanteur = {}\n",
    "   \n",
    "    for un in liste_niv1 :\n",
    "        if un['chanson']['value'] not in resultats :\n",
    "            k = un['chanson']['value'].split(\"http://www.wikidata.org/entity/\")[1]\n",
    "            resultats[k] = (un['chansonLabel']['value'],un['performerLabel']['value'])\n",
    "    \"\"\"        \n",
    "    for un in liste_niv1 :\n",
    "        if un['performerLabel']['value'] not in chanteur :\n",
    "            chanteur[un['performerLabel']['value']] = [un['chansonLabel']['value']]\n",
    "        else :\n",
    "            chanteur[un['performerLabel']['value']].append(un['chansonLabel']['value'])\n",
    "   \"\"\"     \n",
    "    return resultats"
   ]
  },
  {
   "cell_type": "code",
   "execution_count": 8,
   "id": "2d70947c",
   "metadata": {},
   "outputs": [],
   "source": [
    "def choix_reponse(dico,model) :\n",
    "    estBon = False\n",
    "    while estBon == False :\n",
    "        estBon = True\n",
    "        #je choisis une chanson aléatoirement\n",
    "        cle = random.choice(list(dico.keys()))\n",
    "        rep_poss = dico[cle][0]\n",
    "        \n",
    "        #minuscule pour homogénéiser avec la liste de stopwords qui est miniscule\n",
    "        reponse = rep_poss.lower()\n",
    "    \n",
    "        \n",
    "        #je tokenize ma chanson\n",
    "        tokens = reponse.split()\n",
    "        \n",
    "        #je vérifie que chaque token est bien dans le modèle (exception pour gérer le KeyError)\n",
    "        try :\n",
    "            for t in tokens :\n",
    "                model.most_similar(positive=[t])\n",
    "        except KeyError :\n",
    "            estBon = False\n",
    "            pass\n",
    "    \n",
    "    question = \"\"\n",
    "    tokens = reponse.split()\n",
    "    \n",
    "    for t in tokens :\n",
    "        if t not in stopwords.words('english'):\n",
    "            question+=model.most_similar(positive=[t])[0][0]+\" \"\n",
    "        else :\n",
    "            question+=t+\" \"\n",
    "    return question,reponse,dico[cle][1]\n",
    "    "
   ]
  },
  {
   "cell_type": "code",
   "execution_count": 10,
   "id": "4facb97c",
   "metadata": {},
   "outputs": [],
   "source": [
    "def jeu() :\n",
    "    \n",
    "    print(\"Chargement...\")\n",
    "    model = api.load(\"word2vec-google-news-300\") \n",
    "    fichier = requete_base(\"en\")\n",
    "    resultats =  structuration_requete(fichier)\n",
    "    \n",
    "    cpt = 0\n",
    "    while cpt < 5 :\n",
    "        question,reponse,chanteur = choix_reponse(resultats,model)\n",
    "        print(\"Chanteur : \",chanteur)\n",
    "        print(\"Jeu de mots : \",question)\n",
    "        prop = input(\"Quelle est votre proposition ?\")\n",
    "        if prop.lower() != reponse :\n",
    "            print(\"Non ! La bonne réponse est \",reponse)\n",
    "            print(\"-\"*100)\n",
    "        else :\n",
    "            print(\"Bonne réponse !\")\n",
    "            print(\"-\"*100)\n",
    "        cpt+=1\n",
    "    return"
   ]
  },
  {
   "cell_type": "code",
   "execution_count": 11,
   "id": "8b1fcd67",
   "metadata": {},
   "outputs": [
    {
     "name": "stdout",
     "output_type": "stream",
     "text": [
      "Chargement...\n",
      "Chanteur :  April Wine\n",
      "Jeu de mots :  sobbing wife \n",
      "Quelle est votre proposition ?crying woman\n",
      "Non ! La bonne réponse est  weeping widow\n",
      "----------------------------------------------------------------------------------------------------\n",
      "Chanteur :  Metallica\n",
      "Jeu de mots :  the three thoroughbred_horsemen \n",
      "Quelle est votre proposition ?the four horsemen\n",
      "Bonne réponse !\n",
      "----------------------------------------------------------------------------------------------------\n",
      "Chanteur :  Judas Priest\n",
      "Jeu de mots :  saint in heck \n",
      "Quelle est votre proposition ?\n",
      "Non ! La bonne réponse est  saints in hell\n",
      "----------------------------------------------------------------------------------------------------\n",
      "Chanteur :  Sheryl Crow\n",
      "Jeu de mots :  soaking up the sunlight \n",
      "Quelle est votre proposition ?\n",
      "Non ! La bonne réponse est  soak up the sun\n",
      "----------------------------------------------------------------------------------------------------\n",
      "Chanteur :  Creed Fisher\n",
      "Jeu de mots :  kisses my rebels butt \n",
      "Quelle est votre proposition ?kiss my rebels ass\n",
      "Non ! La bonne réponse est  kiss my rebel ass\n",
      "----------------------------------------------------------------------------------------------------\n"
     ]
    }
   ],
   "source": [
    "jeu()"
   ]
  }
 ],
 "metadata": {
  "kernelspec": {
   "display_name": "Python 3",
   "language": "python",
   "name": "python3"
  },
  "language_info": {
   "codemirror_mode": {
    "name": "ipython",
    "version": 3
   },
   "file_extension": ".py",
   "mimetype": "text/x-python",
   "name": "python",
   "nbconvert_exporter": "python",
   "pygments_lexer": "ipython3",
   "version": "3.8.8"
  }
 },
 "nbformat": 4,
 "nbformat_minor": 5
}
